{
 "cells": [
  {
   "cell_type": "code",
   "execution_count": 26,
   "metadata": {},
   "outputs": [],
   "source": [
    "import numpy as np\n",
    "import math as m\n",
    "import cv2\n",
    "import matplotlib.pyplot as plt\n",
    "import random\n",
    "from mean_filter import MeanFilter\n",
    "import os"
   ]
  },
  {
   "cell_type": "code",
   "execution_count": 30,
   "metadata": {},
   "outputs": [
    {
     "name": "stdout",
     "output_type": "stream",
     "text": [
      "c:\\Users\\nicol\\OneDrive\\Área de Trabalho\\Processamento-Digital-de-Imagem\\Work-1\\img\\teste.png\n",
      "None\n"
     ]
    },
    {
     "ename": "AttributeError",
     "evalue": "'NoneType' object has no attribute 'shape'",
     "output_type": "error",
     "traceback": [
      "\u001b[1;31m---------------------------------------------------------------------------\u001b[0m",
      "\u001b[1;31mAttributeError\u001b[0m                            Traceback (most recent call last)",
      "Cell \u001b[1;32mIn[30], line 8\u001b[0m\n\u001b[0;32m      5\u001b[0m img \u001b[38;5;241m=\u001b[39m cv2\u001b[38;5;241m.\u001b[39mimread(caminho_imagem, \u001b[38;5;241m0\u001b[39m)\n\u001b[0;32m      7\u001b[0m \u001b[38;5;28mprint\u001b[39m(img)\n\u001b[1;32m----> 8\u001b[0m img\u001b[38;5;241m.\u001b[39mshape\n\u001b[0;32m      9\u001b[0m mean_k3n1 \u001b[38;5;241m=\u001b[39m MeanFilter(img, \u001b[38;5;241m3\u001b[39m)\n\u001b[0;32m     10\u001b[0m mean_k3n1\u001b[38;5;241m.\u001b[39mrun_test(\u001b[38;5;241m1\u001b[39m)\n",
      "\u001b[1;31mAttributeError\u001b[0m: 'NoneType' object has no attribute 'shape'"
     ]
    }
   ],
   "source": [
    "# Construir o caminho relativo para a imagem\n",
    "caminho_imagem = os.path.abspath(os.path.join(os.getcwd(), '..', '..', 'img', 'teste.png'))\n",
    "print(caminho_imagem)\n",
    "\n",
    "img = cv2.imread(caminho_imagem, 0)\n",
    "\n",
    "print(img)\n",
    "img.shape\n",
    "mean_k3n1 = MeanFilter(img, 3)\n",
    "mean_k3n1.run_test(1)\n"
   ]
  }
 ],
 "metadata": {
  "kernelspec": {
   "display_name": "base",
   "language": "python",
   "name": "python3"
  },
  "language_info": {
   "codemirror_mode": {
    "name": "ipython",
    "version": 3
   },
   "file_extension": ".py",
   "mimetype": "text/x-python",
   "name": "python",
   "nbconvert_exporter": "python",
   "pygments_lexer": "ipython3",
   "version": "3.11.5"
  }
 },
 "nbformat": 4,
 "nbformat_minor": 2
}
